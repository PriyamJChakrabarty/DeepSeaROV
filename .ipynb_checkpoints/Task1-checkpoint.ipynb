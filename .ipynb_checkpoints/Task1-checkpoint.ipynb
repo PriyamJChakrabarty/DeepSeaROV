{
 "cells": [
  {
   "cell_type": "code",
   "execution_count": null,
   "id": "685ebfa3-64ad-4ca9-ab1e-7d0df71ea167",
   "metadata": {},
   "outputs": [],
   "source": [
    "#import the required libraries and packages"
   ]
  },
  {
   "cell_type": "code",
   "execution_count": null,
   "id": "4ae32f14-b8eb-4f55-b7b1-5f6b55f813a3",
   "metadata": {},
   "outputs": [],
   "source": [
    "#load the dataset"
   ]
  },
  {
   "cell_type": "code",
   "execution_count": null,
   "id": "80e81518-e117-4027-98a6-5925960a821f",
   "metadata": {},
   "outputs": [],
   "source": []
  },
  {
   "cell_type": "code",
   "execution_count": null,
   "id": "831afa54-58dd-4e1a-8f30-633d791499c5",
   "metadata": {},
   "outputs": [],
   "source": []
  },
  {
   "cell_type": "code",
   "execution_count": null,
   "id": "29180619-bfaa-4e53-8e94-300f86bc81e9",
   "metadata": {},
   "outputs": [],
   "source": []
  },
  {
   "cell_type": "code",
   "execution_count": null,
   "id": "727290ce-df81-4412-b5ac-7b0b9030a170",
   "metadata": {},
   "outputs": [],
   "source": []
  }
 ],
 "metadata": {
  "kernelspec": {
   "display_name": "Python 3 (ipykernel)",
   "language": "python",
   "name": "python3"
  },
  "language_info": {
   "codemirror_mode": {
    "name": "ipython",
    "version": 3
   },
   "file_extension": ".py",
   "mimetype": "text/x-python",
   "name": "python",
   "nbconvert_exporter": "python",
   "pygments_lexer": "ipython3",
   "version": "3.11.7"
  }
 },
 "nbformat": 4,
 "nbformat_minor": 5
}
