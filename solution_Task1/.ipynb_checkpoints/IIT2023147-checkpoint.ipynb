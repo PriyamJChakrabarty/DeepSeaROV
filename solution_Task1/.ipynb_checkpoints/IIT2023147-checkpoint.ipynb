{
 "cells": [
  {
   "cell_type": "code",
   "execution_count": 7,
   "id": "685ebfa3-64ad-4ca9-ab1e-7d0df71ea167",
   "metadata": {},
   "outputs": [],
   "source": [
    "#import the required libraries and packages\n",
    "# !pip install tensorflow matplotlib\n",
    "import os\n",
    "import zipfile\n",
    "import tensorflow as tf\n",
    "from tensorflow.keras.preprocessing.image import ImageDataGenerator"
   ]
  },
  {
   "cell_type": "code",
   "execution_count": 13,
   "id": "4ae32f14-b8eb-4f55-b7b1-5f6b55f813a3",
   "metadata": {},
   "outputs": [
    {
     "name": "stdout",
     "output_type": "stream",
     "text": [
      "Train Directory: Deepdive\\train\n",
      "Test Directory: Deepdive\\test\n",
      "Validation Directory: Deepdive\\validation\n",
      "Found 2667 images belonging to 33 classes.\n",
      "Found 667 images belonging to 33 classes.\n",
      "Found 660 images belonging to 33 classes.\n"
     ]
    }
   ],
   "source": [
    "#load the dataset\n",
    "\n",
    "dataset_path = 'Deepdive.zip'  \n",
    "extracted_folder = 'Deepdive'  \n",
    "\n",
    "with zipfile.ZipFile(dataset_path, 'r') as zip_ref:\n",
    "    zip_ref.extractall(extracted_folder)\n",
    "\n",
    "# Defining the different paths\n",
    "train_dir = os.path.join(extracted_folder, 'train')\n",
    "test_dir = os.path.join(extracted_folder, 'test')\n",
    "validation_dir = os.path.join(extracted_folder, 'validation')\n",
    "\n",
    "print(f\"Train Directory: {train_dir}\")\n",
    "print(f\"Test Directory: {test_dir}\")\n",
    "print(f\"Validation Directory: {validation_dir}\")\n",
    "\n",
    "\n",
    "# Load the dataset using ImageDataGenerator\n",
    "train_datagen = ImageDataGenerator(rescale=1./255)\n",
    "test_datagen = ImageDataGenerator(rescale=1./255)\n",
    "\n",
    "train_generator = train_datagen.flow_from_directory(\n",
    "    train_dir,\n",
    "    target_size=(224, 224), \n",
    "    batch_size=32,\n",
    "    class_mode='categorical'\n",
    ")\n",
    "\n",
    "validation_generator = test_datagen.flow_from_directory(\n",
    "    validation_dir,\n",
    "    target_size=(224, 224),\n",
    "    batch_size=32,\n",
    "    class_mode='categorical'\n",
    ")\n",
    "\n",
    "test_generator = test_datagen.flow_from_directory(\n",
    "    test_dir,\n",
    "    target_size=(224, 224),\n",
    "    batch_size=32,\n",
    "    class_mode='categorical'\n",
    ")"
   ]
  },
  {
   "cell_type": "code",
   "execution_count": null,
   "id": "80e81518-e117-4027-98a6-5925960a821f",
   "metadata": {},
   "outputs": [],
   "source": []
  },
  {
   "cell_type": "code",
   "execution_count": null,
   "id": "831afa54-58dd-4e1a-8f30-633d791499c5",
   "metadata": {},
   "outputs": [],
   "source": []
  },
  {
   "cell_type": "code",
   "execution_count": null,
   "id": "29180619-bfaa-4e53-8e94-300f86bc81e9",
   "metadata": {},
   "outputs": [],
   "source": []
  },
  {
   "cell_type": "code",
   "execution_count": null,
   "id": "727290ce-df81-4412-b5ac-7b0b9030a170",
   "metadata": {},
   "outputs": [],
   "source": []
  }
 ],
 "metadata": {
  "kernelspec": {
   "display_name": "Python [conda env:base] *",
   "language": "python",
   "name": "conda-base-py"
  },
  "language_info": {
   "codemirror_mode": {
    "name": "ipython",
    "version": 3
   },
   "file_extension": ".py",
   "mimetype": "text/x-python",
   "name": "python",
   "nbconvert_exporter": "python",
   "pygments_lexer": "ipython3",
   "version": "3.12.7"
  }
 },
 "nbformat": 4,
 "nbformat_minor": 5
}
